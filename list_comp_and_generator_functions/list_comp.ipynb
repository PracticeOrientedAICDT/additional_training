{
 "cells": [
  {
   "cell_type": "markdown",
   "id": "7b1868a4",
   "metadata": {},
   "source": [
    "## Python List Comprehensions, Generator Expressions, and Tuples as Records"
   ]
  },
  {
   "cell_type": "markdown",
   "id": "b1bcaec1-9c17-4df4-8c3c-250d579f8bad",
   "metadata": {},
   "source": [
    "List comprehension in Python is a concise and efficient way to create lists by transforming or filtering elements from an existing iterable (like a list, tuple, or string). It allows you to generate a new list by applying an expression to each item in the original iterable, all within a single line of code. The basic syntax includes square brackets, followed by the expression to compute, a for clause to iterate over the iterable, and optional if conditions for filtering. This approach is not only more readable but often faster than traditional loops. \n",
    "\n",
    "The code cells below creates a list of squares of even numbers from 0 to 9."
   ]
  },
  {
   "cell_type": "code",
   "execution_count": 31,
   "id": "723df47a-ec9a-45cb-94c8-ae40633f2f4f",
   "metadata": {
    "tags": []
   },
   "outputs": [
    {
     "name": "stdout",
     "output_type": "stream",
     "text": [
      "CPU times: user 13.4 s, sys: 587 ms, total: 14 s\n",
      "Wall time: 14 s\n"
     ]
    }
   ],
   "source": [
    "%%time\n",
    "squares = []\n",
    "for x in range(100000000):\n",
    "    if x % 2 == 0:\n",
    "        squares.append(x**2)"
   ]
  },
  {
   "cell_type": "code",
   "execution_count": 30,
   "id": "36c01021-2aeb-4132-93bb-7ac2d5a641c0",
   "metadata": {
    "tags": []
   },
   "outputs": [
    {
     "name": "stdout",
     "output_type": "stream",
     "text": [
      "CPU times: user 10.8 s, sys: 586 ms, total: 11.4 s\n",
      "Wall time: 11.4 s\n"
     ]
    }
   ],
   "source": [
    "%%time\n",
    "squares = [x**2 for x in range(100000000) if x % 2 == 0]"
   ]
  },
  {
   "cell_type": "markdown",
   "id": "70ebdc5c",
   "metadata": {},
   "source": [
    "### Introduction to List Comprehension\n",
    "\n",
    "Explanation:\n",
    "List comprehensions provide a concise way to create lists. It consists of brackets containing an expression followed by a for clause, and then zero or more for or if clauses."
   ]
  },
  {
   "cell_type": "markdown",
   "id": "6ea02b05",
   "metadata": {},
   "source": [
    "[expression for item in iterable if condition] "
   ]
  },
  {
   "cell_type": "markdown",
   "id": "16f18df2",
   "metadata": {},
   "source": [
    "Simple List Comprehension"
   ]
  },
  {
   "cell_type": "code",
   "execution_count": 32,
   "id": "c3647531",
   "metadata": {
    "tags": []
   },
   "outputs": [
    {
     "name": "stdout",
     "output_type": "stream",
     "text": [
      "[0, 1, 4, 9, 16, 25, 36, 49, 64, 81]\n"
     ]
    }
   ],
   "source": [
    "# List of squares of numbers from 0 to 9\n",
    "squares = [x**2 for x in range(10)]\n",
    "print(squares)"
   ]
  },
  {
   "cell_type": "markdown",
   "id": "a77e9d99",
   "metadata": {},
   "source": [
    "List Comprehension with Condition"
   ]
  },
  {
   "cell_type": "code",
   "execution_count": 33,
   "id": "208d43d1",
   "metadata": {
    "tags": []
   },
   "outputs": [
    {
     "name": "stdout",
     "output_type": "stream",
     "text": [
      "[0, 2, 4, 6, 8]\n"
     ]
    }
   ],
   "source": [
    "# Get even numbers from 0 to 9\n",
    "even_numbers = [x for x in range(10) if x % 2 == 0]\n",
    "print(even_numbers)\n"
   ]
  },
  {
   "cell_type": "markdown",
   "id": "c1cfac24",
   "metadata": {},
   "source": [
    "**Exercise:**\n",
    "Create a list comprehension that generates a list of cubes of all odd numbers between 0 and 20."
   ]
  },
  {
   "cell_type": "code",
   "execution_count": 3,
   "id": "772eaf6d",
   "metadata": {
    "jupyter": {
     "source_hidden": true
    },
    "tags": []
   },
   "outputs": [],
   "source": [
    "# Your code here\n",
    "cubes_of_odds = [x**3 for x in range(20) if x % 2 != 0]"
   ]
  },
  {
   "cell_type": "markdown",
   "id": "14b638e3",
   "metadata": {},
   "source": [
    "### Introduction to Generator Expressions\n",
    "\n",
    "Generator expressions are similar to list comprehensions but produce a generator object, which can be iterated over lazily. They are written like list comprehensions but with parentheses instead of square brackets."
   ]
  },
  {
   "cell_type": "markdown",
   "id": "721429de",
   "metadata": {},
   "source": [
    "(expression for item in iterable if condition)"
   ]
  },
  {
   "cell_type": "markdown",
   "id": "7d66fa94",
   "metadata": {},
   "source": [
    "Simple Generator Expression\n"
   ]
  },
  {
   "cell_type": "code",
   "execution_count": 3,
   "id": "1d254972",
   "metadata": {
    "tags": []
   },
   "outputs": [
    {
     "name": "stdout",
     "output_type": "stream",
     "text": [
      "0\n",
      "1\n",
      "4\n",
      "9\n",
      "16\n",
      "25\n",
      "36\n",
      "49\n",
      "64\n",
      "81\n"
     ]
    }
   ],
   "source": [
    "# A generator for squares of numbers from 0 to 9\n",
    "square_gen = (x**2 for x in range(10))\n",
    "\n",
    "# Use the generator in a loop (lazy evaluation)\n",
    "for square in square_gen:\n",
    "    print(square)\n"
   ]
  },
  {
   "cell_type": "markdown",
   "id": "0b804c79",
   "metadata": {},
   "source": [
    "Convert Generator to List"
   ]
  },
  {
   "cell_type": "code",
   "execution_count": 4,
   "id": "9e026ee0",
   "metadata": {
    "tags": []
   },
   "outputs": [
    {
     "name": "stdout",
     "output_type": "stream",
     "text": [
      "[0, 1, 4, 9, 16, 25, 36, 49, 64, 81]\n"
     ]
    }
   ],
   "source": [
    "# Convert generator to list to see all values\n",
    "square_gen = (x**2 for x in range(10))\n",
    "squares_list = list(square_gen)\n",
    "print(squares_list)\n"
   ]
  },
  {
   "cell_type": "markdown",
   "id": "d220f3df",
   "metadata": {},
   "source": [
    "**Exercise:**\n",
    "Write a generator expression that yields the factorial of numbers from 1 to 5."
   ]
  },
  {
   "cell_type": "code",
   "execution_count": 8,
   "id": "91e0c72c",
   "metadata": {
    "jupyter": {
     "source_hidden": true
    },
    "tags": []
   },
   "outputs": [],
   "source": [
    "# Your code here\n",
    "import math\n",
    "factorial_gen = factorial_gen = (math.factorial(x) for x in range(1, 6))\n",
    "list(factorial_gen) "
   ]
  },
  {
   "cell_type": "markdown",
   "id": "cd2183bb",
   "metadata": {},
   "source": [
    "### Tuples as Records\n",
    "\n",
    "Tuples can be used to group related data together, like a simple record structure. They are immutable, so once created, they cannot be modified."
   ]
  },
  {
   "cell_type": "code",
   "execution_count": 5,
   "id": "9c93ea54-cdea-4f55-b832-77ad58fb6cff",
   "metadata": {
    "tags": []
   },
   "outputs": [
    {
     "name": "stdout",
     "output_type": "stream",
     "text": [
      "X: 1 Y: 2 Z: 3\n"
     ]
    }
   ],
   "source": [
    "# A tuple representing a point in 3D space\n",
    "point = (1, 2, 3)\n",
    "print(\"X:\", point[0], \"Y:\", point[1], \"Z:\", point[2])\n"
   ]
  },
  {
   "cell_type": "markdown",
   "id": "d6d2c82f-0848-4354-9d6e-84758c49b08c",
   "metadata": {},
   "source": [
    "Using Tuples to Represent Data"
   ]
  },
  {
   "cell_type": "code",
   "execution_count": 6,
   "id": "2c62e09e-1a8d-4615-9320-61c9a2e6b53c",
   "metadata": {
    "tags": []
   },
   "outputs": [
    {
     "name": "stdout",
     "output_type": "stream",
     "text": [
      "Name: Alice, Age: 30, Occupation: Data Scientist\n"
     ]
    }
   ],
   "source": [
    "# Representing a person with (Name, Age, Occupation)\n",
    "person = (\"Alice\", 30, \"Data Scientist\")\n",
    "print(f\"Name: {person[0]}, Age: {person[1]}, Occupation: {person[2]}\")\n"
   ]
  },
  {
   "cell_type": "markdown",
   "id": "68947e2d-f612-491f-ac0d-a5274bea56f8",
   "metadata": {},
   "source": [
    "**Exercise**:Create a tuple that stores information about a book (title, author, publication year). Then print out a formatted string describing the book."
   ]
  },
  {
   "cell_type": "code",
   "execution_count": null,
   "id": "dbf9b8ab-453e-4346-a388-f16c0cfa797f",
   "metadata": {
    "jupyter": {
     "source_hidden": true
    },
    "tags": []
   },
   "outputs": [],
   "source": [
    "# Your code here\n",
    "# Create a tuple with book information\n",
    "book = (\"To Kill a Mockingbird\", \"Harper Lee\", 1960)\n",
    "\n",
    "# Print a formatted string describing the book\n",
    "print(f\"'{book[0]}' by {book[1]}, published in {book[2]}.\")\n"
   ]
  },
  {
   "cell_type": "markdown",
   "id": "f27a1f51-3bb0-45a2-9c66-35ecd96c22ab",
   "metadata": {},
   "source": [
    "You can combine list comprehensions with tuples to generate a list of records.\n",
    "Generate a list of 2D points (x, y) where both x and y are from 0 to 4."
   ]
  },
  {
   "cell_type": "code",
   "execution_count": 7,
   "id": "1c434ba6-8bcd-43da-ada7-70f6bc396a82",
   "metadata": {
    "tags": []
   },
   "outputs": [
    {
     "name": "stdout",
     "output_type": "stream",
     "text": [
      "[(0, 0), (0, 1), (0, 2), (0, 3), (0, 4), (1, 0), (1, 1), (1, 2), (1, 3), (1, 4), (2, 0), (2, 1), (2, 2), (2, 3), (2, 4), (3, 0), (3, 1), (3, 2), (3, 3), (3, 4), (4, 0), (4, 1), (4, 2), (4, 3), (4, 4)]\n"
     ]
    }
   ],
   "source": [
    "points = [(x, y) for x in range(5) for y in range(5)]\n",
    "print(points)\n"
   ]
  },
  {
   "cell_type": "markdown",
   "id": "9581982c-40fe-4812-910e-e3ae4ba1090c",
   "metadata": {},
   "source": [
    "**Exercise:** Using list comprehension, generate a list of student records (name, score) where the names are from a list of names and scores are from a list of random integers between 50 and 100."
   ]
  },
  {
   "cell_type": "code",
   "execution_count": 10,
   "id": "b4cf653a-b9da-4e10-b091-4584951290bc",
   "metadata": {
    "jupyter": {
     "source_hidden": true
    },
    "tags": []
   },
   "outputs": [],
   "source": [
    "# Your code here\n",
    "import random\n",
    "names = [\"Alice\", \"Bob\", \"Charlie\", \"Diana\"]\n",
    "scores = [random.randint(50, 100) for _ in names]\n",
    "students = [(name, score) for name, score in zip(names, scores)]\n"
   ]
  },
  {
   "cell_type": "markdown",
   "id": "17e61b59-16e3-476c-a062-a3b5067deafd",
   "metadata": {},
   "source": [
    "List comprehensions can be nested, meaning you can include one comprehension within another.\n",
    "\n",
    "**Example:**\n",
    "Transpose a matrix using list comprehension."
   ]
  },
  {
   "cell_type": "code",
   "execution_count": 10,
   "id": "12c9be69-a11a-4d43-9938-a165f8820038",
   "metadata": {
    "tags": []
   },
   "outputs": [
    {
     "name": "stdout",
     "output_type": "stream",
     "text": [
      "[[1, 4, 7], [2, 5, 8], [3, 6, 9]]\n"
     ]
    }
   ],
   "source": [
    "matrix = [\n",
    "    [1, 2, 3],\n",
    "    [4, 5, 6],\n",
    "    [7, 8, 9]\n",
    "]\n",
    "\n",
    "# Transposing the matrix (rows become columns)\n",
    "transpose = [[row[i] for row in matrix] for i in range(len(matrix[0]))]\n",
    "print(transpose)\n"
   ]
  },
  {
   "cell_type": "markdown",
   "id": "e7d4dc6b-e2f9-4b22-9237-393f4e60c431",
   "metadata": {},
   "source": [
    "Use nested list comprehension to flatten a 2D list (matrix) into a 1D list."
   ]
  },
  {
   "cell_type": "code",
   "execution_count": null,
   "id": "2fe70e1b-fdb6-4ea8-8f70-5fac4ac1edd2",
   "metadata": {
    "jupyter": {
     "source_hidden": true
    },
    "tags": []
   },
   "outputs": [],
   "source": [
    "# Your code here\n",
    "matrix = [\n",
    "    [1, 2, 3],\n",
    "    [4, 5, 6],\n",
    "    [7, 8, 9]\n",
    "]\n",
    "flattened = [element for row in matrix for element in row]\n"
   ]
  },
  {
   "cell_type": "markdown",
   "id": "5f61b140-cc43-4b52-b440-b0b2bca71aa7",
   "metadata": {},
   "source": [
    "## Exercises"
   ]
  },
  {
   "cell_type": "markdown",
   "id": "0abdc8d3-ac86-4093-9772-570223101ac4",
   "metadata": {},
   "source": [
    "#### Converting Temperatures\n",
    "\n",
    "Task:\n",
    "Given a list of temperatures in Celsius, convert them to Fahrenheit using list comprehension.\n",
    "\n",
    "Formula:\n",
    "Fahrenheit = Celsius * 9/5 + 32"
   ]
  },
  {
   "cell_type": "code",
   "execution_count": 34,
   "id": "c214d071-b98b-453f-902f-431c6d1a9bc5",
   "metadata": {
    "jupyter": {
     "source_hidden": true
    },
    "tags": []
   },
   "outputs": [
    {
     "name": "stdout",
     "output_type": "stream",
     "text": [
      "[32.0, 50.0, 68.0, 86.0, 104.0, 212.0]\n"
     ]
    }
   ],
   "source": [
    "# List of temperatures in Celsius\n",
    "celsius_temps = [0, 10, 20, 30, 40, 100]\n",
    "\n",
    "# Convert to Fahrenheit using list comprehension\n",
    "fahrenheit_temps = [((temp * 9/5) + 32) for temp in celsius_temps]\n",
    "print(fahrenheit_temps)\n"
   ]
  },
  {
   "cell_type": "markdown",
   "id": "af480073-4369-44d8-920f-5f45fd5a5742",
   "metadata": {},
   "source": [
    "#### Filtering Words by Length\n",
    "\n",
    "Task:\n",
    "Given a list of words, filter out the words that are shorter than 5 characters using list comprehension."
   ]
  },
  {
   "cell_type": "code",
   "execution_count": 35,
   "id": "b9112b37-d5ae-444a-93d2-ef649fcf86c2",
   "metadata": {
    "jupyter": {
     "source_hidden": true
    },
    "tags": []
   },
   "outputs": [
    {
     "name": "stdout",
     "output_type": "stream",
     "text": [
      "['apple', 'banana', 'elephant']\n"
     ]
    }
   ],
   "source": [
    "# List of words\n",
    "words = [\"apple\", \"banana\", \"cat\", \"dog\", \"elephant\", \"fish\"]\n",
    "\n",
    "# Filter words with more than 5 characters\n",
    "long_words = [word for word in words if len(word) >= 5]\n",
    "print(long_words)\n"
   ]
  },
  {
   "cell_type": "markdown",
   "id": "53754266-f3fe-48eb-be53-6c7e5d22232d",
   "metadata": {},
   "source": [
    "#### Flattening a Nested List\n",
    "\n",
    "Task:\n",
    "Given a list of lists (nested list), flatten it into a single list using list comprehension."
   ]
  },
  {
   "cell_type": "code",
   "execution_count": 36,
   "id": "70238736-5e14-4cdf-9bde-ff25b0461376",
   "metadata": {
    "jupyter": {
     "source_hidden": true
    },
    "tags": []
   },
   "outputs": [
    {
     "name": "stdout",
     "output_type": "stream",
     "text": [
      "[1, 2, 3, 4, 5, 6, 7, 8, 9]\n"
     ]
    }
   ],
   "source": [
    "# Nested list\n",
    "nested_list = [[1, 2, 3], [4, 5], [6, 7, 8, 9]]\n",
    "\n",
    "# Flatten the nested list using list comprehension\n",
    "flattened_list = [item for sublist in nested_list for item in sublist]\n",
    "print(flattened_list)\n"
   ]
  },
  {
   "cell_type": "markdown",
   "id": "73fa6615-2416-4fe1-9f67-a32077f57fce",
   "metadata": {},
   "source": [
    "#### Extracting the First Letters of Words\n",
    "\n",
    "Task:\n",
    "Given a list of words, extract the first letter of each word using list comprehension."
   ]
  },
  {
   "cell_type": "code",
   "execution_count": 38,
   "id": "4af358dc-4e3d-4266-9569-422b8666befa",
   "metadata": {
    "jupyter": {
     "source_hidden": true
    },
    "tags": []
   },
   "outputs": [
    {
     "name": "stdout",
     "output_type": "stream",
     "text": [
      "['p', 'l', 'c', 'g', 'e']\n"
     ]
    }
   ],
   "source": [
    "# List of words\n",
    "words = [\"python\", \"list\", \"comprehension\", \"generator\", \"expression\"]\n",
    "\n",
    "# Extract first letter of each word\n",
    "first_letters = [word[0] for word in words]\n",
    "print(first_letters)\n"
   ]
  },
  {
   "cell_type": "markdown",
   "id": "3177e666-32a0-4fa4-a204-086ffb8ca2fc",
   "metadata": {},
   "source": [
    "#### Finding the Intersection of Two Lists\n",
    "\n",
    "Task:\n",
    "Given two lists, find the common elements (intersection) between them using list comprehension."
   ]
  },
  {
   "cell_type": "code",
   "execution_count": 39,
   "id": "5bd0e007-95e3-47a0-895d-a3c1ffb1bedf",
   "metadata": {
    "jupyter": {
     "source_hidden": true
    }
   },
   "outputs": [
    {
     "name": "stdout",
     "output_type": "stream",
     "text": [
      "[3, 4, 5]\n"
     ]
    }
   ],
   "source": [
    "# Two lists\n",
    "list_a = [1, 2, 3, 4, 5]\n",
    "list_b = [3, 4, 5, 6, 7]\n",
    "\n",
    "# Find common elements\n",
    "intersection = [item for item in list_a if item in list_b]\n",
    "print(intersection)\n"
   ]
  },
  {
   "cell_type": "markdown",
   "id": "2f8e458b-8bc2-4a97-92fc-db843263bdc8",
   "metadata": {},
   "source": [
    "#### Working with Dictionaries: Swap Keys and Values\n",
    "\n",
    "Task:\n",
    "Given a dictionary, swap its keys and values using a dictionary comprehension."
   ]
  },
  {
   "cell_type": "code",
   "execution_count": 40,
   "id": "6f66de4a-a0b0-4b6d-98b5-4da4a34cf491",
   "metadata": {
    "jupyter": {
     "source_hidden": true
    }
   },
   "outputs": [
    {
     "name": "stdout",
     "output_type": "stream",
     "text": [
      "{1: 'apple', 2: 'banana', 3: 'cherry'}\n"
     ]
    }
   ],
   "source": [
    "# Dictionary of items\n",
    "original_dict = {'apple': 1, 'banana': 2, 'cherry': 3}\n",
    "\n",
    "# Swap keys and values using dict comprehension\n",
    "swapped_dict = {value: key for key, value in original_dict.items()}\n",
    "print(swapped_dict)\n"
   ]
  },
  {
   "cell_type": "markdown",
   "id": "a8d5afd1-8764-48f9-a3e7-5be4b87d59d2",
   "metadata": {},
   "source": [
    "#### Extracting Digits from a String\n",
    "\n",
    "Task:\n",
    "Given a string with letters and numbers, extract all the digits using list comprehension."
   ]
  },
  {
   "cell_type": "code",
   "execution_count": 41,
   "id": "bd9e4d3b-b358-4253-9352-2ecab2f7efbf",
   "metadata": {
    "jupyter": {
     "source_hidden": true
    }
   },
   "outputs": [
    {
     "name": "stdout",
     "output_type": "stream",
     "text": [
      "['1', '2', '3', '4', '5']\n"
     ]
    }
   ],
   "source": [
    "# String with mixed characters\n",
    "mixed_string = \"a1b2c3d4e5\"\n",
    "\n",
    "# Extract digits using list comprehension\n",
    "digits = [char for char in mixed_string if char.isdigit()]\n",
    "print(digits)\n"
   ]
  },
  {
   "cell_type": "markdown",
   "id": "7f1bb9bf-c1a5-4cf8-a7fa-d4327e902ddc",
   "metadata": {},
   "source": [
    "#### Calculating Word Lengths\n",
    "\n",
    "Task:\n",
    "Given a list of words, create a new list that contains the length of each word using list comprehension."
   ]
  },
  {
   "cell_type": "code",
   "execution_count": 42,
   "id": "56ff2c41-cc86-459c-bafd-078d669f2721",
   "metadata": {
    "jupyter": {
     "source_hidden": true
    }
   },
   "outputs": [
    {
     "name": "stdout",
     "output_type": "stream",
     "text": [
      "[5, 6, 6, 4]\n"
     ]
    }
   ],
   "source": [
    "# List of words\n",
    "words = [\"apple\", \"banana\", \"cherry\", \"date\"]\n",
    "\n",
    "# Calculate word lengths\n",
    "word_lengths = [len(word) for word in words]\n",
    "print(word_lengths)\n"
   ]
  },
  {
   "cell_type": "markdown",
   "id": "6e6192f5-b71b-49d9-b4f2-fd911cd6ef3c",
   "metadata": {},
   "source": [
    "#### Finding Prime Numbers\n",
    "\n",
    "Task:\n",
    "Write a list comprehension that finds all prime numbers between 2 and 100.\n",
    "\n",
    "Hint:\n",
    "A prime number is a number greater than 1 that is not divisible by any number except 1 and itself."
   ]
  },
  {
   "cell_type": "code",
   "execution_count": 43,
   "id": "bbcd1614-d480-4702-af24-38367954528f",
   "metadata": {
    "jupyter": {
     "source_hidden": true
    }
   },
   "outputs": [
    {
     "name": "stdout",
     "output_type": "stream",
     "text": [
      "[2, 3, 5, 7, 11, 13, 17, 19, 23, 29, 31, 37, 41, 43, 47, 53, 59, 61, 67, 71, 73, 79, 83, 89, 97]\n"
     ]
    }
   ],
   "source": [
    "# Prime number check function\n",
    "def is_prime(n):\n",
    "    return all(n % i != 0 for i in range(2, int(n**0.5) + 1))\n",
    "\n",
    "# List comprehension to find primes between 2 and 100\n",
    "primes = [x for x in range(2, 101) if is_prime(x)]\n",
    "print(primes)\n"
   ]
  },
  {
   "cell_type": "markdown",
   "id": "53be0443-d237-45a8-aafb-105b2c39e220",
   "metadata": {},
   "source": [
    "#### Removing Vowels from a Sentence\n",
    "\n",
    "Task:\n",
    "Given a sentence, remove all the vowels (a, e, i, o, u) using list comprehension."
   ]
  },
  {
   "cell_type": "code",
   "execution_count": 44,
   "id": "489830be-2427-4a97-a7cc-9a199c8041fc",
   "metadata": {
    "jupyter": {
     "source_hidden": true
    }
   },
   "outputs": [
    {
     "name": "stdout",
     "output_type": "stream",
     "text": [
      "Lst cmprhnsns r  grt ftr n Pythn.\n"
     ]
    }
   ],
   "source": [
    "# Sentence\n",
    "sentence = \"List comprehensions are a great feature in Python.\"\n",
    "\n",
    "# Remove vowels using list comprehension\n",
    "no_vowels = ''.join([char for char in sentence if char.lower() not in 'aeiou'])\n",
    "print(no_vowels)\n"
   ]
  },
  {
   "cell_type": "markdown",
   "id": "59de1e77-d05f-4aac-9dc9-447bf39794c5",
   "metadata": {},
   "source": [
    "#### Matrix Diagonal Extraction\n",
    "\n",
    "Task:\n",
    "Given a square matrix, extract the main diagonal using list comprehension.\n",
    "\n"
   ]
  },
  {
   "cell_type": "code",
   "execution_count": 45,
   "id": "73c5f3bd-4d67-4cce-936d-ee4bd2452027",
   "metadata": {
    "jupyter": {
     "source_hidden": true
    }
   },
   "outputs": [
    {
     "name": "stdout",
     "output_type": "stream",
     "text": [
      "[1, 5, 9]\n"
     ]
    }
   ],
   "source": [
    "# 3x3 Matrix\n",
    "matrix = [\n",
    "    [1, 2, 3],\n",
    "    [4, 5, 6],\n",
    "    [7, 8, 9]\n",
    "]\n",
    "\n",
    "# Extract the main diagonal\n",
    "diagonal = [matrix[i][i] for i in range(len(matrix))]\n",
    "print(diagonal)\n"
   ]
  },
  {
   "cell_type": "markdown",
   "id": "951022ae-0532-4af0-8b63-495e1aa4276a",
   "metadata": {},
   "source": [
    "Handling Missing Data (NaN)\n",
    "\n",
    "Task:\n",
    "Given a list of numerical data, replace all None values with the average of the non-None numbers using list comprehension."
   ]
  },
  {
   "cell_type": "code",
   "execution_count": 46,
   "id": "afee52f5-fae3-48fe-a1dd-265f86828b9f",
   "metadata": {
    "jupyter": {
     "source_hidden": true
    }
   },
   "outputs": [
    {
     "name": "stdout",
     "output_type": "stream",
     "text": [
      "[10, 46.25, 25, 46.25, 50, 100]\n"
     ]
    }
   ],
   "source": [
    "# List with missing data (None)\n",
    "data = [10, None, 25, None, 50, 100]\n",
    "\n",
    "# Calculate the average of non-None values\n",
    "average = sum([x for x in data if x is not None]) / len([x for x in data if x is not None])\n",
    "\n",
    "# Replace None with the average using list comprehension\n",
    "clean_data = [x if x is not None else average for x in data]\n",
    "print(clean_data)\n"
   ]
  },
  {
   "cell_type": "markdown",
   "id": "c0eb2b21-9892-4125-bbca-9adce7acfec4",
   "metadata": {},
   "source": [
    "#### Creating a Dictionary from Two Lists\n",
    "\n",
    "Task:\n",
    "Given two lists, one with keys and one with values, create a dictionary using dictionary comprehension."
   ]
  },
  {
   "cell_type": "code",
   "execution_count": 47,
   "id": "dda3212b-1864-4867-849e-ee51996367a4",
   "metadata": {
    "jupyter": {
     "source_hidden": true
    }
   },
   "outputs": [
    {
     "name": "stdout",
     "output_type": "stream",
     "text": [
      "{'name': 'Alice', 'age': 30, 'occupation': 'Engineer'}\n"
     ]
    }
   ],
   "source": [
    "# List of keys and values\n",
    "keys = ['name', 'age', 'occupation']\n",
    "values = ['Alice', 30, 'Engineer']\n",
    "\n",
    "# Create a dictionary\n",
    "person_dict = {keys[i]: values[i] for i in range(len(keys))}\n",
    "print(person_dict)\n"
   ]
  },
  {
   "cell_type": "markdown",
   "id": "f1a274da-acc1-4b73-9790-3e38798d8d6e",
   "metadata": {},
   "source": [
    "#### Extracting Non-Duplicate Elements from a List\n",
    "\n",
    "Task:\n",
    "Given a list with duplicates, create a new list with only unique elements (non-duplicate) using list comprehension."
   ]
  },
  {
   "cell_type": "code",
   "execution_count": 49,
   "id": "0af8d497-ef4a-4c93-86c0-c78abcf330eb",
   "metadata": {
    "jupyter": {
     "source_hidden": true
    }
   },
   "outputs": [
    {
     "name": "stdout",
     "output_type": "stream",
     "text": [
      "[1, 3, 5]\n"
     ]
    }
   ],
   "source": [
    "# List with duplicates\n",
    "numbers = [1, 2, 2, 3, 4, 4, 5]\n",
    "\n",
    "# Extract unique elements\n",
    "unique_numbers = [x for x in numbers if numbers.count(x) == 1]\n",
    "print(unique_numbers)\n"
   ]
  },
  {
   "cell_type": "code",
   "execution_count": null,
   "id": "d93de8ba-3998-4a4c-9994-fd754186bd86",
   "metadata": {
    "jupyter": {
     "source_hidden": true
    }
   },
   "outputs": [],
   "source": []
  }
 ],
 "metadata": {
  "kernelspec": {
   "display_name": "Python 3 (ipykernel)",
   "language": "python",
   "name": "python3"
  },
  "language_info": {
   "codemirror_mode": {
    "name": "ipython",
    "version": 3
   },
   "file_extension": ".py",
   "mimetype": "text/x-python",
   "name": "python",
   "nbconvert_exporter": "python",
   "pygments_lexer": "ipython3",
   "version": "3.10.12"
  }
 },
 "nbformat": 4,
 "nbformat_minor": 5
}
